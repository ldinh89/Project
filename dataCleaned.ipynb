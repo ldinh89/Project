{
 "metadata": {
  "language_info": {
   "codemirror_mode": {
    "name": "ipython",
    "version": 3
   },
   "file_extension": ".py",
   "mimetype": "text/x-python",
   "name": "python",
   "nbconvert_exporter": "python",
   "pygments_lexer": "ipython3",
   "version": "3.8.5"
  },
  "orig_nbformat": 2,
  "kernelspec": {
   "name": "python385jvsc74a57bd06c3ed69fe20b28265c7ee53dd2e8250a968f719a869f00b4efc700f5f6bcd63a",
   "display_name": "Python 3.8.5 64-bit ('base': conda)"
  }
 },
 "nbformat": 4,
 "nbformat_minor": 2,
 "cells": [
  {
   "cell_type": "code",
   "execution_count": 2,
   "metadata": {},
   "outputs": [],
   "source": [
    "import pandas as pd"
   ]
  },
  {
   "cell_type": "code",
   "execution_count": 3,
   "metadata": {},
   "outputs": [],
   "source": [
    "file = 'New_data_csv/Main_Data_CSV/Main_table.csv'"
   ]
  },
  {
   "cell_type": "code",
   "execution_count": 4,
   "metadata": {},
   "outputs": [
    {
     "output_type": "execute_result",
     "data": {
      "text/plain": [
       "   visitNumber     visitId  visitStartTime      date        fullVisitorId  \\\n",
       "0            1  1478008845      1478008845  20161101  9352881518669559847   \n",
       "1            1  1478002133      1478002133  20161101  4906813510055416703   \n",
       "2            1  1477995977      1477995977  20161101  4091646801425702074   \n",
       "3            1  1478034201      1478034201  20161101  5401793363522001290   \n",
       "4            1  1478055650      1478055650  20161101  4440833520759626888   \n",
       "\n",
       "  channelGrouping  socialEngagementType  visits  hits  pageviews  ...  \\\n",
       "0  Organic Search  Not Socially Engaged       1     1        1.0  ...   \n",
       "1  Organic Search  Not Socially Engaged       1     1        1.0  ...   \n",
       "2  Organic Search  Not Socially Engaged       1     1        1.0  ...   \n",
       "3          Direct  Not Socially Engaged       1     1        1.0  ...   \n",
       "4  Organic Search  Not Socially Engaged       1     1        1.0  ...   \n",
       "\n",
       "      browser  operatingSystem  isMobile deviceCategory continent  \\\n",
       "0      Chrome          Android      True         mobile    Europe   \n",
       "1      Chrome          Windows     False        desktop      Asia   \n",
       "2      Chrome          Windows     False        desktop    Europe   \n",
       "3  Opera Mini          Android      True         mobile    Africa   \n",
       "4      Chrome            Linux     False        desktop  Americas   \n",
       "\n",
       "       subContinent        country                         region  \\\n",
       "0    Western Europe        Germany                        Hamburg   \n",
       "1      Eastern Asia         Taiwan                    Taipei City   \n",
       "2   Southern Europe          Spain  not available in demo dataset   \n",
       "3    Western Africa          Niger  not available in demo dataset   \n",
       "4  Northern America  United States  not available in demo dataset   \n",
       "\n",
       "                            city  networkDomain  \n",
       "0                        Hamburg      (not set)  \n",
       "1                      (not set)      hinet.net  \n",
       "2  not available in demo dataset  comunitel.net  \n",
       "3  not available in demo dataset      (not set)  \n",
       "4  not available in demo dataset       utah.edu  \n",
       "\n",
       "[5 rows x 30 columns]"
      ],
      "text/html": "<div>\n<style scoped>\n    .dataframe tbody tr th:only-of-type {\n        vertical-align: middle;\n    }\n\n    .dataframe tbody tr th {\n        vertical-align: top;\n    }\n\n    .dataframe thead th {\n        text-align: right;\n    }\n</style>\n<table border=\"1\" class=\"dataframe\">\n  <thead>\n    <tr style=\"text-align: right;\">\n      <th></th>\n      <th>visitNumber</th>\n      <th>visitId</th>\n      <th>visitStartTime</th>\n      <th>date</th>\n      <th>fullVisitorId</th>\n      <th>channelGrouping</th>\n      <th>socialEngagementType</th>\n      <th>visits</th>\n      <th>hits</th>\n      <th>pageviews</th>\n      <th>...</th>\n      <th>browser</th>\n      <th>operatingSystem</th>\n      <th>isMobile</th>\n      <th>deviceCategory</th>\n      <th>continent</th>\n      <th>subContinent</th>\n      <th>country</th>\n      <th>region</th>\n      <th>city</th>\n      <th>networkDomain</th>\n    </tr>\n  </thead>\n  <tbody>\n    <tr>\n      <th>0</th>\n      <td>1</td>\n      <td>1478008845</td>\n      <td>1478008845</td>\n      <td>20161101</td>\n      <td>9352881518669559847</td>\n      <td>Organic Search</td>\n      <td>Not Socially Engaged</td>\n      <td>1</td>\n      <td>1</td>\n      <td>1.0</td>\n      <td>...</td>\n      <td>Chrome</td>\n      <td>Android</td>\n      <td>True</td>\n      <td>mobile</td>\n      <td>Europe</td>\n      <td>Western Europe</td>\n      <td>Germany</td>\n      <td>Hamburg</td>\n      <td>Hamburg</td>\n      <td>(not set)</td>\n    </tr>\n    <tr>\n      <th>1</th>\n      <td>1</td>\n      <td>1478002133</td>\n      <td>1478002133</td>\n      <td>20161101</td>\n      <td>4906813510055416703</td>\n      <td>Organic Search</td>\n      <td>Not Socially Engaged</td>\n      <td>1</td>\n      <td>1</td>\n      <td>1.0</td>\n      <td>...</td>\n      <td>Chrome</td>\n      <td>Windows</td>\n      <td>False</td>\n      <td>desktop</td>\n      <td>Asia</td>\n      <td>Eastern Asia</td>\n      <td>Taiwan</td>\n      <td>Taipei City</td>\n      <td>(not set)</td>\n      <td>hinet.net</td>\n    </tr>\n    <tr>\n      <th>2</th>\n      <td>1</td>\n      <td>1477995977</td>\n      <td>1477995977</td>\n      <td>20161101</td>\n      <td>4091646801425702074</td>\n      <td>Organic Search</td>\n      <td>Not Socially Engaged</td>\n      <td>1</td>\n      <td>1</td>\n      <td>1.0</td>\n      <td>...</td>\n      <td>Chrome</td>\n      <td>Windows</td>\n      <td>False</td>\n      <td>desktop</td>\n      <td>Europe</td>\n      <td>Southern Europe</td>\n      <td>Spain</td>\n      <td>not available in demo dataset</td>\n      <td>not available in demo dataset</td>\n      <td>comunitel.net</td>\n    </tr>\n    <tr>\n      <th>3</th>\n      <td>1</td>\n      <td>1478034201</td>\n      <td>1478034201</td>\n      <td>20161101</td>\n      <td>5401793363522001290</td>\n      <td>Direct</td>\n      <td>Not Socially Engaged</td>\n      <td>1</td>\n      <td>1</td>\n      <td>1.0</td>\n      <td>...</td>\n      <td>Opera Mini</td>\n      <td>Android</td>\n      <td>True</td>\n      <td>mobile</td>\n      <td>Africa</td>\n      <td>Western Africa</td>\n      <td>Niger</td>\n      <td>not available in demo dataset</td>\n      <td>not available in demo dataset</td>\n      <td>(not set)</td>\n    </tr>\n    <tr>\n      <th>4</th>\n      <td>1</td>\n      <td>1478055650</td>\n      <td>1478055650</td>\n      <td>20161101</td>\n      <td>4440833520759626888</td>\n      <td>Organic Search</td>\n      <td>Not Socially Engaged</td>\n      <td>1</td>\n      <td>1</td>\n      <td>1.0</td>\n      <td>...</td>\n      <td>Chrome</td>\n      <td>Linux</td>\n      <td>False</td>\n      <td>desktop</td>\n      <td>Americas</td>\n      <td>Northern America</td>\n      <td>United States</td>\n      <td>not available in demo dataset</td>\n      <td>not available in demo dataset</td>\n      <td>utah.edu</td>\n    </tr>\n  </tbody>\n</table>\n<p>5 rows × 30 columns</p>\n</div>"
     },
     "metadata": {},
     "execution_count": 4
    }
   ],
   "source": [
    "df = pd.read_csv(file, encoding=\"ISO-8859-1\")\n",
    "df.head()"
   ]
  },
  {
   "cell_type": "code",
   "execution_count": 5,
   "metadata": {},
   "outputs": [
    {
     "output_type": "execute_result",
     "data": {
      "text/plain": [
       "visitNumber             113971\n",
       "visitId                 113971\n",
       "visitStartTime          113971\n",
       "date                    113971\n",
       "fullVisitorId           113971\n",
       "channelGrouping         113971\n",
       "socialEngagementType    113971\n",
       "visits                  113971\n",
       "hits                    113971\n",
       "pageviews               113961\n",
       "timeOnSite               56353\n",
       "bounces                  57519\n",
       "newVisits                94779\n",
       "campaign                113971\n",
       "source                  113971\n",
       "medium                  113971\n",
       "page                      1933\n",
       "slot                      1933\n",
       "adNetworkType             1933\n",
       "isVideoAd                 1933\n",
       "browser                 113971\n",
       "operatingSystem         113971\n",
       "isMobile                113971\n",
       "deviceCategory          113971\n",
       "continent               113971\n",
       "subContinent            113971\n",
       "country                 113971\n",
       "region                  113971\n",
       "city                    113971\n",
       "networkDomain           113971\n",
       "dtype: int64"
      ]
     },
     "metadata": {},
     "execution_count": 5
    }
   ],
   "source": [
    "df.count()"
   ]
  },
  {
   "cell_type": "code",
   "execution_count": 77,
   "metadata": {},
   "outputs": [
    {
     "output_type": "execute_result",
     "data": {
      "text/plain": [
       "   Total_Visitors_wholemonth Browser_Name\n",
       "0        9352881518669559847       Chrome\n",
       "1        4906813510055416703       Chrome\n",
       "2        4091646801425702074       Chrome\n",
       "3        5401793363522001290   Opera Mini\n",
       "4        4440833520759626888       Chrome"
      ],
      "text/html": "<div>\n<style scoped>\n    .dataframe tbody tr th:only-of-type {\n        vertical-align: middle;\n    }\n\n    .dataframe tbody tr th {\n        vertical-align: top;\n    }\n\n    .dataframe thead th {\n        text-align: right;\n    }\n</style>\n<table border=\"1\" class=\"dataframe\">\n  <thead>\n    <tr style=\"text-align: right;\">\n      <th></th>\n      <th>Total_Visitors_wholemonth</th>\n      <th>Browser_Name</th>\n    </tr>\n  </thead>\n  <tbody>\n    <tr>\n      <th>0</th>\n      <td>9352881518669559847</td>\n      <td>Chrome</td>\n    </tr>\n    <tr>\n      <th>1</th>\n      <td>4906813510055416703</td>\n      <td>Chrome</td>\n    </tr>\n    <tr>\n      <th>2</th>\n      <td>4091646801425702074</td>\n      <td>Chrome</td>\n    </tr>\n    <tr>\n      <th>3</th>\n      <td>5401793363522001290</td>\n      <td>Opera Mini</td>\n    </tr>\n    <tr>\n      <th>4</th>\n      <td>4440833520759626888</td>\n      <td>Chrome</td>\n    </tr>\n  </tbody>\n</table>\n</div>"
     },
     "metadata": {},
     "execution_count": 77
    }
   ],
   "source": [
    "browser_df = pd.DataFrame({\"Total_Visitors_wholemonth\": df[\"fullVisitorId\"],\n",
    "                    \"Browser_Name\": df[\"browser\"]})\n",
    "browser_df.head()"
   ]
  },
  {
   "cell_type": "code",
   "execution_count": 79,
   "metadata": {},
   "outputs": [
    {
     "output_type": "execute_result",
     "data": {
      "text/plain": [
       "                          Total_Visitors_wholemonth\n",
       "Browser_Name                                       \n",
       "Amazon Silk                                      48\n",
       "Android Browser                                  43\n",
       "Apple-iPhone7C2                                   1\n",
       "BlackBerry                                       25\n",
       "Chrome                                        70033\n",
       "Coc Coc                                          58\n",
       "DASH_JR_3G                                        1\n",
       "Edge                                            924\n",
       "Firefox                                        3316\n",
       "Internet Explorer                              1881\n",
       "Iron                                              2\n",
       "LYF_LS_4002_12                                    4\n",
       "MQQBrowser                                        1\n",
       "MRCHROME                                         24\n",
       "Maxthon                                          27\n",
       "Mozilla                                           2\n",
       "Mozilla Compatible Agent                         32\n",
       "Nichrome                                          2\n",
       "Nintendo Browser                                 13\n",
       "Nokia Browser                                     3\n",
       "Opera                                           554\n",
       "Opera Mini                                      501\n",
       "Safari                                        35845\n",
       "Safari (in-app)                                 276\n",
       "ThumbSniper                                       1\n",
       "UC Browser                                      160\n",
       "YaBrowser                                       194"
      ],
      "text/html": "<div>\n<style scoped>\n    .dataframe tbody tr th:only-of-type {\n        vertical-align: middle;\n    }\n\n    .dataframe tbody tr th {\n        vertical-align: top;\n    }\n\n    .dataframe thead th {\n        text-align: right;\n    }\n</style>\n<table border=\"1\" class=\"dataframe\">\n  <thead>\n    <tr style=\"text-align: right;\">\n      <th></th>\n      <th>Total_Visitors_wholemonth</th>\n    </tr>\n    <tr>\n      <th>Browser_Name</th>\n      <th></th>\n    </tr>\n  </thead>\n  <tbody>\n    <tr>\n      <th>Amazon Silk</th>\n      <td>48</td>\n    </tr>\n    <tr>\n      <th>Android Browser</th>\n      <td>43</td>\n    </tr>\n    <tr>\n      <th>Apple-iPhone7C2</th>\n      <td>1</td>\n    </tr>\n    <tr>\n      <th>BlackBerry</th>\n      <td>25</td>\n    </tr>\n    <tr>\n      <th>Chrome</th>\n      <td>70033</td>\n    </tr>\n    <tr>\n      <th>Coc Coc</th>\n      <td>58</td>\n    </tr>\n    <tr>\n      <th>DASH_JR_3G</th>\n      <td>1</td>\n    </tr>\n    <tr>\n      <th>Edge</th>\n      <td>924</td>\n    </tr>\n    <tr>\n      <th>Firefox</th>\n      <td>3316</td>\n    </tr>\n    <tr>\n      <th>Internet Explorer</th>\n      <td>1881</td>\n    </tr>\n    <tr>\n      <th>Iron</th>\n      <td>2</td>\n    </tr>\n    <tr>\n      <th>LYF_LS_4002_12</th>\n      <td>4</td>\n    </tr>\n    <tr>\n      <th>MQQBrowser</th>\n      <td>1</td>\n    </tr>\n    <tr>\n      <th>MRCHROME</th>\n      <td>24</td>\n    </tr>\n    <tr>\n      <th>Maxthon</th>\n      <td>27</td>\n    </tr>\n    <tr>\n      <th>Mozilla</th>\n      <td>2</td>\n    </tr>\n    <tr>\n      <th>Mozilla Compatible Agent</th>\n      <td>32</td>\n    </tr>\n    <tr>\n      <th>Nichrome</th>\n      <td>2</td>\n    </tr>\n    <tr>\n      <th>Nintendo Browser</th>\n      <td>13</td>\n    </tr>\n    <tr>\n      <th>Nokia Browser</th>\n      <td>3</td>\n    </tr>\n    <tr>\n      <th>Opera</th>\n      <td>554</td>\n    </tr>\n    <tr>\n      <th>Opera Mini</th>\n      <td>501</td>\n    </tr>\n    <tr>\n      <th>Safari</th>\n      <td>35845</td>\n    </tr>\n    <tr>\n      <th>Safari (in-app)</th>\n      <td>276</td>\n    </tr>\n    <tr>\n      <th>ThumbSniper</th>\n      <td>1</td>\n    </tr>\n    <tr>\n      <th>UC Browser</th>\n      <td>160</td>\n    </tr>\n    <tr>\n      <th>YaBrowser</th>\n      <td>194</td>\n    </tr>\n  </tbody>\n</table>\n</div>"
     },
     "metadata": {},
     "execution_count": 79
    }
   ],
   "source": [
    "\n",
    "browser_grouped = browser_df.groupby(\"Browser_Name\").count()\n",
    "browser_grouped"
   ]
  },
  {
   "cell_type": "code",
   "execution_count": 80,
   "metadata": {},
   "outputs": [
    {
     "output_type": "execute_result",
     "data": {
      "text/plain": [
       "                          Total_Visitors_wholemonth\n",
       "Browser_Name                                       \n",
       "Chrome                                        70033\n",
       "Safari                                        35845\n",
       "Firefox                                        3316\n",
       "Internet Explorer                              1881\n",
       "Edge                                            924\n",
       "Opera                                           554\n",
       "Opera Mini                                      501\n",
       "Safari (in-app)                                 276\n",
       "YaBrowser                                       194\n",
       "UC Browser                                      160\n",
       "Coc Coc                                          58\n",
       "Amazon Silk                                      48\n",
       "Android Browser                                  43\n",
       "Mozilla Compatible Agent                         32\n",
       "Maxthon                                          27\n",
       "BlackBerry                                       25\n",
       "MRCHROME                                         24\n",
       "Nintendo Browser                                 13\n",
       "LYF_LS_4002_12                                    4\n",
       "Nokia Browser                                     3\n",
       "Mozilla                                           2\n",
       "Nichrome                                          2\n",
       "Iron                                              2\n",
       "MQQBrowser                                        1\n",
       "DASH_JR_3G                                        1\n",
       "ThumbSniper                                       1\n",
       "Apple-iPhone7C2                                   1"
      ],
      "text/html": "<div>\n<style scoped>\n    .dataframe tbody tr th:only-of-type {\n        vertical-align: middle;\n    }\n\n    .dataframe tbody tr th {\n        vertical-align: top;\n    }\n\n    .dataframe thead th {\n        text-align: right;\n    }\n</style>\n<table border=\"1\" class=\"dataframe\">\n  <thead>\n    <tr style=\"text-align: right;\">\n      <th></th>\n      <th>Total_Visitors_wholemonth</th>\n    </tr>\n    <tr>\n      <th>Browser_Name</th>\n      <th></th>\n    </tr>\n  </thead>\n  <tbody>\n    <tr>\n      <th>Chrome</th>\n      <td>70033</td>\n    </tr>\n    <tr>\n      <th>Safari</th>\n      <td>35845</td>\n    </tr>\n    <tr>\n      <th>Firefox</th>\n      <td>3316</td>\n    </tr>\n    <tr>\n      <th>Internet Explorer</th>\n      <td>1881</td>\n    </tr>\n    <tr>\n      <th>Edge</th>\n      <td>924</td>\n    </tr>\n    <tr>\n      <th>Opera</th>\n      <td>554</td>\n    </tr>\n    <tr>\n      <th>Opera Mini</th>\n      <td>501</td>\n    </tr>\n    <tr>\n      <th>Safari (in-app)</th>\n      <td>276</td>\n    </tr>\n    <tr>\n      <th>YaBrowser</th>\n      <td>194</td>\n    </tr>\n    <tr>\n      <th>UC Browser</th>\n      <td>160</td>\n    </tr>\n    <tr>\n      <th>Coc Coc</th>\n      <td>58</td>\n    </tr>\n    <tr>\n      <th>Amazon Silk</th>\n      <td>48</td>\n    </tr>\n    <tr>\n      <th>Android Browser</th>\n      <td>43</td>\n    </tr>\n    <tr>\n      <th>Mozilla Compatible Agent</th>\n      <td>32</td>\n    </tr>\n    <tr>\n      <th>Maxthon</th>\n      <td>27</td>\n    </tr>\n    <tr>\n      <th>BlackBerry</th>\n      <td>25</td>\n    </tr>\n    <tr>\n      <th>MRCHROME</th>\n      <td>24</td>\n    </tr>\n    <tr>\n      <th>Nintendo Browser</th>\n      <td>13</td>\n    </tr>\n    <tr>\n      <th>LYF_LS_4002_12</th>\n      <td>4</td>\n    </tr>\n    <tr>\n      <th>Nokia Browser</th>\n      <td>3</td>\n    </tr>\n    <tr>\n      <th>Mozilla</th>\n      <td>2</td>\n    </tr>\n    <tr>\n      <th>Nichrome</th>\n      <td>2</td>\n    </tr>\n    <tr>\n      <th>Iron</th>\n      <td>2</td>\n    </tr>\n    <tr>\n      <th>MQQBrowser</th>\n      <td>1</td>\n    </tr>\n    <tr>\n      <th>DASH_JR_3G</th>\n      <td>1</td>\n    </tr>\n    <tr>\n      <th>ThumbSniper</th>\n      <td>1</td>\n    </tr>\n    <tr>\n      <th>Apple-iPhone7C2</th>\n      <td>1</td>\n    </tr>\n  </tbody>\n</table>\n</div>"
     },
     "metadata": {},
     "execution_count": 80
    }
   ],
   "source": [
    "sorted_browser = browser_grouped.sort_values(\"Total_Visitors_wholemonth\", ascending=False)\n",
    "sorted_browser"
   ]
  },
  {
   "cell_type": "code",
   "execution_count": 96,
   "metadata": {},
   "outputs": [
    {
     "output_type": "execute_result",
     "data": {
      "text/plain": [
       "        Browser_Name  Total_Visitors_wholemonth\n",
       "0             Chrome                      70033\n",
       "1             Safari                      35845\n",
       "2            Firefox                       3316\n",
       "3  Internet Explorer                       1881\n",
       "4               Edge                        924"
      ],
      "text/html": "<div>\n<style scoped>\n    .dataframe tbody tr th:only-of-type {\n        vertical-align: middle;\n    }\n\n    .dataframe tbody tr th {\n        vertical-align: top;\n    }\n\n    .dataframe thead th {\n        text-align: right;\n    }\n</style>\n<table border=\"1\" class=\"dataframe\">\n  <thead>\n    <tr style=\"text-align: right;\">\n      <th></th>\n      <th>Browser_Name</th>\n      <th>Total_Visitors_wholemonth</th>\n    </tr>\n  </thead>\n  <tbody>\n    <tr>\n      <th>0</th>\n      <td>Chrome</td>\n      <td>70033</td>\n    </tr>\n    <tr>\n      <th>1</th>\n      <td>Safari</td>\n      <td>35845</td>\n    </tr>\n    <tr>\n      <th>2</th>\n      <td>Firefox</td>\n      <td>3316</td>\n    </tr>\n    <tr>\n      <th>3</th>\n      <td>Internet Explorer</td>\n      <td>1881</td>\n    </tr>\n    <tr>\n      <th>4</th>\n      <td>Edge</td>\n      <td>924</td>\n    </tr>\n  </tbody>\n</table>\n</div>"
     },
     "metadata": {},
     "execution_count": 96
    }
   ],
   "source": [
    "whole_month_df = sorted_browser[:5].reset_index()\n",
    "a"
   ]
  },
  {
   "cell_type": "code",
   "execution_count": 63,
   "metadata": {},
   "outputs": [
    {
     "output_type": "execute_result",
     "data": {
      "text/plain": [
       "   Total_Visitors_on_BlackFriday Browser_Name      Date\n",
       "0            9352881518669559847       Chrome  20161101\n",
       "1            4906813510055416703       Chrome  20161101\n",
       "2            4091646801425702074       Chrome  20161101\n",
       "3            5401793363522001290   Opera Mini  20161101\n",
       "4            4440833520759626888       Chrome  20161101"
      ],
      "text/html": "<div>\n<style scoped>\n    .dataframe tbody tr th:only-of-type {\n        vertical-align: middle;\n    }\n\n    .dataframe tbody tr th {\n        vertical-align: top;\n    }\n\n    .dataframe thead th {\n        text-align: right;\n    }\n</style>\n<table border=\"1\" class=\"dataframe\">\n  <thead>\n    <tr style=\"text-align: right;\">\n      <th></th>\n      <th>Total_Visitors_on_BlackFriday</th>\n      <th>Browser_Name</th>\n      <th>Date</th>\n    </tr>\n  </thead>\n  <tbody>\n    <tr>\n      <th>0</th>\n      <td>9352881518669559847</td>\n      <td>Chrome</td>\n      <td>20161101</td>\n    </tr>\n    <tr>\n      <th>1</th>\n      <td>4906813510055416703</td>\n      <td>Chrome</td>\n      <td>20161101</td>\n    </tr>\n    <tr>\n      <th>2</th>\n      <td>4091646801425702074</td>\n      <td>Chrome</td>\n      <td>20161101</td>\n    </tr>\n    <tr>\n      <th>3</th>\n      <td>5401793363522001290</td>\n      <td>Opera Mini</td>\n      <td>20161101</td>\n    </tr>\n    <tr>\n      <th>4</th>\n      <td>4440833520759626888</td>\n      <td>Chrome</td>\n      <td>20161101</td>\n    </tr>\n  </tbody>\n</table>\n</div>"
     },
     "metadata": {},
     "execution_count": 63
    }
   ],
   "source": [
    "blackFriday_df = pd.DataFrame({\"Total_Visitors_on_BlackFriday\": df[\"fullVisitorId\"],\n",
    "                    \"Browser_Name\": df[\"browser\"],\n",
    "                    \"Date\": df[\"date\"]})\n",
    "blackFriday_df.head()"
   ]
  },
  {
   "cell_type": "code",
   "execution_count": 64,
   "metadata": {},
   "outputs": [
    {
     "output_type": "execute_result",
     "data": {
      "text/plain": [
       "       Total_Visitors_on_BlackFriday Browser_Name      Date\n",
       "90065            1805733387466969468      Firefox  20161125\n",
       "90066            2954000130175804466       Chrome  20161125\n",
       "90067            4463691894324256729       Chrome  20161125\n",
       "90068            7726145645850904081      Firefox  20161125\n",
       "90069            4766733115446186249       Chrome  20161125"
      ],
      "text/html": "<div>\n<style scoped>\n    .dataframe tbody tr th:only-of-type {\n        vertical-align: middle;\n    }\n\n    .dataframe tbody tr th {\n        vertical-align: top;\n    }\n\n    .dataframe thead th {\n        text-align: right;\n    }\n</style>\n<table border=\"1\" class=\"dataframe\">\n  <thead>\n    <tr style=\"text-align: right;\">\n      <th></th>\n      <th>Total_Visitors_on_BlackFriday</th>\n      <th>Browser_Name</th>\n      <th>Date</th>\n    </tr>\n  </thead>\n  <tbody>\n    <tr>\n      <th>90065</th>\n      <td>1805733387466969468</td>\n      <td>Firefox</td>\n      <td>20161125</td>\n    </tr>\n    <tr>\n      <th>90066</th>\n      <td>2954000130175804466</td>\n      <td>Chrome</td>\n      <td>20161125</td>\n    </tr>\n    <tr>\n      <th>90067</th>\n      <td>4463691894324256729</td>\n      <td>Chrome</td>\n      <td>20161125</td>\n    </tr>\n    <tr>\n      <th>90068</th>\n      <td>7726145645850904081</td>\n      <td>Firefox</td>\n      <td>20161125</td>\n    </tr>\n    <tr>\n      <th>90069</th>\n      <td>4766733115446186249</td>\n      <td>Chrome</td>\n      <td>20161125</td>\n    </tr>\n  </tbody>\n</table>\n</div>"
     },
     "metadata": {},
     "execution_count": 64
    }
   ],
   "source": [
    "blackFriday_only = blackFriday_df.loc[df[\"date\"]==20161125, :]\n",
    "blackFriday_only.head()"
   ]
  },
  {
   "cell_type": "code",
   "execution_count": 97,
   "metadata": {},
   "outputs": [
    {
     "output_type": "execute_result",
     "data": {
      "text/plain": [
       "        Browser_Name  Total_Visitors_on_BlackFriday\n",
       "0             Chrome                           2282\n",
       "1             Safari                           1163\n",
       "2            Firefox                            131\n",
       "3  Internet Explorer                             74\n",
       "4               Edge                             34"
      ],
      "text/html": "<div>\n<style scoped>\n    .dataframe tbody tr th:only-of-type {\n        vertical-align: middle;\n    }\n\n    .dataframe tbody tr th {\n        vertical-align: top;\n    }\n\n    .dataframe thead th {\n        text-align: right;\n    }\n</style>\n<table border=\"1\" class=\"dataframe\">\n  <thead>\n    <tr style=\"text-align: right;\">\n      <th></th>\n      <th>Browser_Name</th>\n      <th>Total_Visitors_on_BlackFriday</th>\n    </tr>\n  </thead>\n  <tbody>\n    <tr>\n      <th>0</th>\n      <td>Chrome</td>\n      <td>2282</td>\n    </tr>\n    <tr>\n      <th>1</th>\n      <td>Safari</td>\n      <td>1163</td>\n    </tr>\n    <tr>\n      <th>2</th>\n      <td>Firefox</td>\n      <td>131</td>\n    </tr>\n    <tr>\n      <th>3</th>\n      <td>Internet Explorer</td>\n      <td>74</td>\n    </tr>\n    <tr>\n      <th>4</th>\n      <td>Edge</td>\n      <td>34</td>\n    </tr>\n  </tbody>\n</table>\n</div>"
     },
     "metadata": {},
     "execution_count": 97
    }
   ],
   "source": [
    "blackFriday_grouped = blackFriday_only.groupby(\"Browser_Name\").count().drop(columns=[\"Date\"]).sort_values(\"Total_Visitors_on_BlackFriday\", ascending=False).reset_index()\n",
    "\n",
    "blackFriday_grouped = blackFriday_grouped[:5]                        \n",
    "blackFriday_grouped.head(20)"
   ]
  },
  {
   "cell_type": "code",
   "execution_count": 106,
   "metadata": {},
   "outputs": [
    {
     "output_type": "execute_result",
     "data": {
      "text/plain": [
       "        Browser_Name  Total_Visitors_wholemonth  Total_Visitors_on_BlackFriday\n",
       "0             Chrome                      70033                           2282\n",
       "1             Safari                      35845                           1163\n",
       "2            Firefox                       3316                            131\n",
       "3  Internet Explorer                       1881                             74\n",
       "4               Edge                        924                             34"
      ],
      "text/html": "<div>\n<style scoped>\n    .dataframe tbody tr th:only-of-type {\n        vertical-align: middle;\n    }\n\n    .dataframe tbody tr th {\n        vertical-align: top;\n    }\n\n    .dataframe thead th {\n        text-align: right;\n    }\n</style>\n<table border=\"1\" class=\"dataframe\">\n  <thead>\n    <tr style=\"text-align: right;\">\n      <th></th>\n      <th>Browser_Name</th>\n      <th>Total_Visitors_wholemonth</th>\n      <th>Total_Visitors_on_BlackFriday</th>\n    </tr>\n  </thead>\n  <tbody>\n    <tr>\n      <th>0</th>\n      <td>Chrome</td>\n      <td>70033</td>\n      <td>2282</td>\n    </tr>\n    <tr>\n      <th>1</th>\n      <td>Safari</td>\n      <td>35845</td>\n      <td>1163</td>\n    </tr>\n    <tr>\n      <th>2</th>\n      <td>Firefox</td>\n      <td>3316</td>\n      <td>131</td>\n    </tr>\n    <tr>\n      <th>3</th>\n      <td>Internet Explorer</td>\n      <td>1881</td>\n      <td>74</td>\n    </tr>\n    <tr>\n      <th>4</th>\n      <td>Edge</td>\n      <td>924</td>\n      <td>34</td>\n    </tr>\n  </tbody>\n</table>\n</div>"
     },
     "metadata": {},
     "execution_count": 106
    }
   ],
   "source": [
    "cleaned_df = whole_month_df.merge(blackFriday_grouped, how='left', on='Browser_Name')\n",
    "cleaned_df.head()"
   ]
  },
  {
   "cell_type": "code",
   "execution_count": 107,
   "metadata": {},
   "outputs": [
    {
     "output_type": "stream",
     "name": "stdout",
     "text": [
      "        Browser_Name  Total_Visitors_wholemonth  Total_Visitors_on_BlackFriday\n0             Chrome                      70033                           2282\n1             Safari                      35845                           1163\n2            Firefox                       3316                            131\n3  Internet Explorer                       1881                             74\n4               Edge                        924                             34\n"
     ]
    }
   ],
   "source": [
    "cleaned_df.to_csv(r'C:\\Users\\luand\\UCSD_SD_DATA\\Project-Files\\New_data_csv\\cleaned_data.csv', index=True, header = True)\n",
    "print(cleaned_df)"
   ]
  },
  {
   "cell_type": "code",
   "execution_count": null,
   "metadata": {},
   "outputs": [],
   "source": []
  }
 ]
}